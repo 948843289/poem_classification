{
 "cells": [
  {
   "cell_type": "code",
   "execution_count": 1,
   "metadata": {},
   "outputs": [
    {
     "name": "stdout",
     "output_type": "stream",
     "text": [
      "Looking in indexes: https://pypi.tuna.tsinghua.edu.cn/simple\n",
      "Requirement already satisfied: keras==2.3.1 in /Users/maliyu/miniconda3/lib/python3.8/site-packages (2.3.1)\n",
      "Requirement already satisfied: numpy>=1.9.1 in /Users/maliyu/miniconda3/lib/python3.8/site-packages (from keras==2.3.1) (1.19.4)\n",
      "Requirement already satisfied: keras-applications>=1.0.6 in /Users/maliyu/miniconda3/lib/python3.8/site-packages (from keras==2.3.1) (1.0.8)\n",
      "Requirement already satisfied: six>=1.9.0 in /Users/maliyu/miniconda3/lib/python3.8/site-packages (from keras==2.3.1) (1.14.0)\n",
      "Requirement already satisfied: scipy>=0.14 in /Users/maliyu/miniconda3/lib/python3.8/site-packages (from keras==2.3.1) (1.4.1)\n",
      "Requirement already satisfied: keras-preprocessing>=1.0.5 in /Users/maliyu/miniconda3/lib/python3.8/site-packages (from keras==2.3.1) (1.1.2)\n",
      "Requirement already satisfied: h5py in /Users/maliyu/miniconda3/lib/python3.8/site-packages (from keras==2.3.1) (2.10.0)\n",
      "Requirement already satisfied: pyyaml in /Users/maliyu/miniconda3/lib/python3.8/site-packages (from keras==2.3.1) (5.3.1)\n"
     ]
    }
   ],
   "source": [
    "!pip install keras==2.3.1"
   ]
  },
  {
   "cell_type": "code",
   "execution_count": null,
   "metadata": {},
   "outputs": [
    {
     "name": "stderr",
     "output_type": "stream",
     "text": [
      "Using TensorFlow backend.\n"
     ]
    },
    {
     "name": "stdout",
     "output_type": "stream",
     "text": [
      "共有 425995 个不相同的词语.\n",
      "(1024667, 50) (1024667, 8)\n",
      "(113852, 50) (113852, 8)\n",
      "Model: \"sequential_1\"\n",
      "_________________________________________________________________\n",
      "Layer (type)                 Output Shape              Param #   \n",
      "=================================================================\n",
      "embedding_1 (Embedding)      (None, 50, 150)           15000000  \n",
      "_________________________________________________________________\n",
      "spatial_dropout1d_1 (Spatial (None, 50, 150)           0         \n",
      "_________________________________________________________________\n",
      "lstm_1 (LSTM)                (None, 100)               100400    \n",
      "_________________________________________________________________\n",
      "dense_1 (Dense)              (None, 8)                 808       \n",
      "=================================================================\n",
      "Total params: 15,101,208\n",
      "Trainable params: 15,101,208\n",
      "Non-trainable params: 0\n",
      "_________________________________________________________________\n",
      "None\n"
     ]
    },
    {
     "name": "stderr",
     "output_type": "stream",
     "text": [
      "/Users/maliyu/opt/anaconda3/lib/python3.8/site-packages/tensorflow/python/framework/indexed_slices.py:433: UserWarning: Converting sparse IndexedSlices to a dense Tensor of unknown shape. This may consume a large amount of memory.\n",
      "  warnings.warn(\n"
     ]
    },
    {
     "name": "stdout",
     "output_type": "stream",
     "text": [
      "Train on 1024667 samples, validate on 113852 samples\n",
      "Epoch 1/1\n",
      " 852608/1024667 [=======================>......] - ETA: 6:14 - loss: 1.1140 - accuracy: 0.5827"
     ]
    }
   ],
   "source": [
    "from keras.preprocessing.text import Tokenizer\n",
    "from keras.preprocessing.sequence import pad_sequences\n",
    "import random\n",
    "import numpy as np\n",
    "from keras.utils import to_categorical\n",
    "from sklearn.model_selection import train_test_split\n",
    "from keras import Sequential\n",
    "from keras.layers import Embedding, LSTM, Dense, SpatialDropout1D\n",
    "from keras.callbacks import ModelCheckpoint\n",
    "\n",
    "f = open('./dataset.txt', 'r',  encoding='utf-8')\n",
    "data = f.readlines()\n",
    "random.shuffle(data)#乱序一个列表\n",
    "all_data = []\n",
    "labels = []\n",
    "for i in range(len(data)):\n",
    "    line = data[i].split('\\t')\n",
    "    all_data.append(line[0])\n",
    "    labels.append(int(line[1].strip('\\n')))\n",
    "labels = np.array(labels)\n",
    "# 设置最频繁使用的50000个词\n",
    "MAX_NB_WORDS = 100000\n",
    "# 每条cut_review最大的长度\n",
    "MAX_SEQUENCE_LENGTH = 50\n",
    "# 设置Embeddingceng层的维度\n",
    "EMBEDDING_DIM = 150\n",
    "\n",
    "\n",
    "# 构建分词器\n",
    "tokenizer = Tokenizer(num_words=MAX_NB_WORDS, filters='!\"#$%&()*+,-./:;<=>?@[\\]^_`{|}~', lower=True)\n",
    "# 将所有数据放到分词器里边\n",
    "tokenizer.fit_on_texts(all_data)\n",
    "# 文本转化为数字序列\n",
    "sequences = tokenizer.texts_to_sequences(all_data)\n",
    "# 构建词汇表\n",
    "word_index = tokenizer.word_index\n",
    "\n",
    "# 按照最大文本长度截断文本\n",
    "features = pad_sequences(sequences, maxlen=MAX_SEQUENCE_LENGTH)\n",
    "print('共有 %s 个不相同的词语.' % len(word_index))\n",
    "\n",
    "# 对标签进行独热编码\n",
    "labels = to_categorical(labels)\n",
    "#拆分训练集和测试集\n",
    "X_train, X_test, Y_train, Y_test = train_test_split(features,labels, test_size = 0.10, random_state = 42)\n",
    "print(X_train.shape,Y_train.shape)\n",
    "print(X_test.shape,Y_test.shape)\n",
    "\n",
    "#定义模型\n",
    "model = Sequential()\n",
    "model.add(Embedding(MAX_NB_WORDS, EMBEDDING_DIM, input_length=features.shape[1]))\n",
    "model.add(SpatialDropout1D(0.2))\n",
    "model.add(LSTM(100, dropout=0.2, recurrent_dropout=0.2))\n",
    "model.add(Dense(8, activation='softmax'))\n",
    "model.compile(loss='categorical_crossentropy', optimizer='adam', metrics=['accuracy'])\n",
    "print(model.summary())\n",
    "\n",
    "epochs = 10\n",
    "batch_size = 128\n",
    "\n",
    "checkpoint = ModelCheckpoint('weights.{epoch:03d}-{accuracy:.4f}.hdf5', monitor='accuracy', verbose=1, save_best_only=True, mode='auto')\n",
    "model.fit(X_train, Y_train, epochs=epochs, batch_size=batch_size, verbose=1, callbacks=[checkpoint], validation_data=(X_test, Y_test))"
   ]
  },
  {
   "cell_type": "code",
   "execution_count": 4,
   "metadata": {},
   "outputs": [
    {
     "name": "stdout",
     "output_type": "stream",
     "text": [
      "Looking in indexes: https://pypi.tuna.tsinghua.edu.cn/simple\n",
      "Requirement already satisfied: jieba in /Users/maliyu/miniconda3/lib/python3.8/site-packages (0.42.1)\n",
      "\u001b[33mWARNING: You are using pip version 20.3.1; however, version 20.3.2 is available.\n",
      "You should consider upgrading via the '/Users/maliyu/miniconda3/bin/python -m pip install --upgrade pip' command.\u001b[0m\n"
     ]
    }
   ],
   "source": [
    "!pip install jieba"
   ]
  },
  {
   "cell_type": "code",
   "execution_count": 5,
   "metadata": {},
   "outputs": [],
   "source": [
    "import jieba\n",
    "def predict(text):\n",
    "    txt = remove_punctuation(text)\n",
    "    txt = [\" \".join([w for w in list(jieba.cut(txt))])]\n",
    "    seq = tokenizer.texts_to_sequences(txt)\n",
    "    padded = pad_sequences(seq, maxlen=MAX_SEQUENCE_LENGTH)\n",
    "    pred = model.predict(padded)\n",
    "    cat_id= pred.argmax(axis=1)[0]\n",
    "    if cat_id == 0:\n",
    "        cat = '秦'\n",
    "    elif cat_id ==1:\n",
    "        cat = '汉、三国'\n",
    "    elif cat_id ==2:\n",
    "        cat = '魏晋南北朝'\n",
    "    elif cat_id ==3:\n",
    "        cat = '隋唐五代'\n",
    "    elif cat_id ==4:\n",
    "        cat = '宋、金'\n",
    "    elif cat_id ==5:\n",
    "        cat = '元'\n",
    "    elif cat_id ==6:\n",
    "        cat = '明'\n",
    "    else:\n",
    "        cat = '清'\n",
    "    return cat"
   ]
  },
  {
   "cell_type": "code",
   "execution_count": 6,
   "metadata": {},
   "outputs": [],
   "source": [
    "#定义删除除字母,数字，汉字以外的所有符号的函数\n",
    "import re\n",
    "def remove_punctuation(line):\n",
    "    line = str(line)\n",
    "    if line.strip()=='':\n",
    "        return ''\n",
    "    rule = re.compile(u\"[^a-zA-Z0-9\\u4E00-\\u9FA5]\")\n",
    "    line = rule.sub('',line)\n",
    "    return line"
   ]
  },
  {
   "cell_type": "code",
   "execution_count": 14,
   "metadata": {},
   "outputs": [
    {
     "data": {
      "text/plain": [
       "'汉、三国'"
      ]
     },
     "execution_count": 14,
     "metadata": {},
     "output_type": "execute_result"
    }
   ],
   "source": [
    "predict('青青园中葵，朝露待日晞')"
   ]
  },
  {
   "cell_type": "code",
   "execution_count": 13,
   "metadata": {},
   "outputs": [
    {
     "data": {
      "text/plain": [
       "'清'"
      ]
     },
     "execution_count": 13,
     "metadata": {},
     "output_type": "execute_result"
    }
   ],
   "source": [
    "predict('我愿平东海，身沉心不改。')"
   ]
  },
  {
   "cell_type": "code",
   "execution_count": 11,
   "metadata": {},
   "outputs": [
    {
     "data": {
      "text/plain": [
       "'隋唐五代'"
      ]
     },
     "execution_count": 11,
     "metadata": {},
     "output_type": "execute_result"
    }
   ],
   "source": [
    "predict('大漠孤烟直')"
   ]
  },
  {
   "cell_type": "code",
   "execution_count": 10,
   "metadata": {},
   "outputs": [
    {
     "data": {
      "text/plain": [
       "'隋唐五代'"
      ]
     },
     "execution_count": 10,
     "metadata": {},
     "output_type": "execute_result"
    }
   ],
   "source": [
    "predict('白毛浮绿水')"
   ]
  },
  {
   "cell_type": "code",
   "execution_count": 34,
   "metadata": {},
   "outputs": [
    {
     "data": {
      "text/plain": [
       "'魏晋南北朝'"
      ]
     },
     "execution_count": 34,
     "metadata": {},
     "output_type": "execute_result"
    }
   ],
   "source": [
    "predict('采菊东篱下，悠然现南山')"
   ]
  },
  {
   "cell_type": "code",
   "execution_count": 16,
   "metadata": {},
   "outputs": [
    {
     "data": {
      "text/plain": [
       "'元'"
      ]
     },
     "execution_count": 16,
     "metadata": {},
     "output_type": "execute_result"
    }
   ],
   "source": [
    "predict('小桥流水人家，古道西风瘦马')"
   ]
  },
  {
   "cell_type": "code",
   "execution_count": 17,
   "metadata": {},
   "outputs": [
    {
     "data": {
      "text/plain": [
       "'汉、三国'"
      ]
     },
     "execution_count": 17,
     "metadata": {},
     "output_type": "execute_result"
    }
   ],
   "source": [
    "predict('大风起兮云飞扬')"
   ]
  },
  {
   "cell_type": "code",
   "execution_count": 26,
   "metadata": {},
   "outputs": [
    {
     "data": {
      "text/plain": [
       "'隋唐五代'"
      ]
     },
     "execution_count": 26,
     "metadata": {},
     "output_type": "execute_result"
    }
   ],
   "source": [
    "predict('明月松间照，清泉石上流')"
   ]
  },
  {
   "cell_type": "code",
   "execution_count": 30,
   "metadata": {},
   "outputs": [
    {
     "data": {
      "text/plain": [
       "'明'"
      ]
     },
     "execution_count": 30,
     "metadata": {},
     "output_type": "execute_result"
    }
   ],
   "source": [
    "predict('琼姿只合在瑶台，谁向江南处处栽')"
   ]
  },
  {
   "cell_type": "code",
   "execution_count": 33,
   "metadata": {},
   "outputs": [
    {
     "data": {
      "text/plain": [
       "'元'"
      ]
     },
     "execution_count": 33,
     "metadata": {},
     "output_type": "execute_result"
    }
   ],
   "source": [
    "predict('一蓑一笠一扁舟，一丈丝纶一寸钩')"
   ]
  },
  {
   "cell_type": "code",
   "execution_count": 35,
   "metadata": {},
   "outputs": [
    {
     "data": {
      "text/plain": [
       "'汉、三国'"
      ]
     },
     "execution_count": 35,
     "metadata": {},
     "output_type": "execute_result"
    }
   ],
   "source": [
    "predict('东临碣石，以观沧海')"
   ]
  },
  {
   "cell_type": "code",
   "execution_count": null,
   "metadata": {},
   "outputs": [],
   "source": []
  }
 ],
 "metadata": {
  "kernelspec": {
   "display_name": "Python 3",
   "language": "python",
   "name": "python3"
  },
  "language_info": {
   "codemirror_mode": {
    "name": "ipython",
    "version": 3
   },
   "file_extension": ".py",
   "mimetype": "text/x-python",
   "name": "python",
   "nbconvert_exporter": "python",
   "pygments_lexer": "ipython3",
   "version": "3.8.3"
  }
 },
 "nbformat": 4,
 "nbformat_minor": 4
}
